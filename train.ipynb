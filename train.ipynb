{
 "cells": [
  {
   "cell_type": "code",
   "execution_count": 1,
   "metadata": {},
   "outputs": [
    {
     "name": "stdout",
     "output_type": "stream",
     "text": [
      "Sun Mar 31 16:13:56 2024       \n",
      "+-----------------------------------------------------------------------------------------+\n",
      "| NVIDIA-SMI 551.86                 Driver Version: 551.86         CUDA Version: 12.4     |\n",
      "|-----------------------------------------+------------------------+----------------------+\n",
      "| GPU  Name                     TCC/WDDM  | Bus-Id          Disp.A | Volatile Uncorr. ECC |\n",
      "| Fan  Temp   Perf          Pwr:Usage/Cap |           Memory-Usage | GPU-Util  Compute M. |\n",
      "|                                         |                        |               MIG M. |\n",
      "|=========================================+========================+======================|\n",
      "|   0  NVIDIA GeForce GTX 1650 Ti   WDDM  |   00000000:01:00.0 Off |                  N/A |\n",
      "| N/A   43C    P0             13W /   50W |       0MiB /   4096MiB |      0%      Default |\n",
      "|                                         |                        |                  N/A |\n",
      "+-----------------------------------------+------------------------+----------------------+\n",
      "                                                                                         \n",
      "+-----------------------------------------------------------------------------------------+\n",
      "| Processes:                                                                              |\n",
      "|  GPU   GI   CI        PID   Type   Process name                              GPU Memory |\n",
      "|        ID   ID                                                               Usage      |\n",
      "|=========================================================================================|\n",
      "|  No running processes found                                                             |\n",
      "+-----------------------------------------------------------------------------------------+\n"
     ]
    }
   ],
   "source": [
    "!nvidia-smi"
   ]
  },
  {
   "cell_type": "code",
   "execution_count": 2,
   "metadata": {},
   "outputs": [],
   "source": [
    "# %pip install tensorboard\n",
    "# %pip install pandas\n",
    "# %pip install torch\n",
    "# %pip install seaborn\n",
    "# %pip install lightning\n",
    "# %pip install accelerate \n",
    "# %pip install numpy\n",
    "# %pip install termcolor\n",
    "# %pip install -U scikit-learn\n",
    "# %pip install transformers\n",
    "# %pip install matplotlib"
   ]
  },
  {
   "cell_type": "code",
   "execution_count": 3,
   "metadata": {},
   "outputs": [
    {
     "name": "stderr",
     "output_type": "stream",
     "text": [
      "c:\\Users\\arusu\\AppData\\Local\\Programs\\Python\\Python312\\Lib\\site-packages\\tqdm\\auto.py:21: TqdmWarning: IProgress not found. Please update jupyter and ipywidgets. See https://ipywidgets.readthedocs.io/en/stable/user_install.html\n",
      "  from .autonotebook import tqdm as notebook_tqdm\n"
     ]
    }
   ],
   "source": [
    "import json\n",
    "import numpy as np\n",
    "import torch\n",
    "from pathlib import Path \n",
    "import pytorch_lightning as pl\n",
    "from pytorch_lightning.callbacks import ModelCheckpoint\n",
    "from pytorch_lightning.loggers import TensorBoardLogger\n",
    "from sklearn.model_selection import train_test_split\n",
    "\n",
    "from termcolor import colored\n",
    "import textwrap\n",
    "from transformers import(AdamW,T5ForConditionalGeneration,T5TokenizerFast as T5Tokenizer)\n",
    "from tqdm.auto import tqdm\n",
    "\n",
    "from torch.utils.data import DataLoader,Dataset"
   ]
  },
  {
   "cell_type": "code",
   "execution_count": 4,
   "metadata": {},
   "outputs": [],
   "source": [
    "import pandas as pd\n",
    "import seaborn as sns\n",
    "from pylab import rcParams\n",
    "import matplotlib.pyplot as plt\n",
    "from matplotlib import rc\n",
    "%matplotlib inline\n",
    "%config InlineBackend.figure_format='retina'\n",
    "sns.set(style='whitegrid',palette='muted',font_scale=1.2)\n",
    "rcParams['figure.figsize']=16,10"
   ]
  },
  {
   "cell_type": "code",
   "execution_count": 5,
   "metadata": {},
   "outputs": [],
   "source": [
    "df = pd.read_excel('final.xlsx')"
   ]
  },
  {
   "cell_type": "code",
   "execution_count": 6,
   "metadata": {},
   "outputs": [
    {
     "data": {
      "text/html": [
       "<div>\n",
       "<style scoped>\n",
       "    .dataframe tbody tr th:only-of-type {\n",
       "        vertical-align: middle;\n",
       "    }\n",
       "\n",
       "    .dataframe tbody tr th {\n",
       "        vertical-align: top;\n",
       "    }\n",
       "\n",
       "    .dataframe thead th {\n",
       "        text-align: right;\n",
       "    }\n",
       "</style>\n",
       "<table border=\"1\" class=\"dataframe\">\n",
       "  <thead>\n",
       "    <tr style=\"text-align: right;\">\n",
       "      <th></th>\n",
       "      <th>User Story</th>\n",
       "      <th>Description</th>\n",
       "      <th>Input</th>\n",
       "      <th>Expected Output</th>\n",
       "    </tr>\n",
       "  </thead>\n",
       "  <tbody>\n",
       "    <tr>\n",
       "      <th>0</th>\n",
       "      <td>I want to have the 12-19-2017 deletions proce...</td>\n",
       "      <td>: Process the deletion of a single record.</td>\n",
       "      <td>:      Record ID: 12345</td>\n",
       "      <td>:      Record 12345 is deleted from the database.</td>\n",
       "    </tr>\n",
       "    <tr>\n",
       "      <th>1</th>\n",
       "      <td>I want to have the 12-19-2017 deletions proce...</td>\n",
       "      <td>: Process the deletion of multiple records.</td>\n",
       "      <td>:      Record IDs: 12345, 67890, 98765</td>\n",
       "      <td>:      Records 12345, 67890, and 98765 are del...</td>\n",
       "    </tr>\n",
       "    <tr>\n",
       "      <th>2</th>\n",
       "      <td>I want to have the 12-19-2017 deletions proce...</td>\n",
       "      <td>: Process the deletion of a record with child ...</td>\n",
       "      <td>:      Record ID: 12345      Child Record IDs:...</td>\n",
       "      <td>:      Record 12345 and its child records (543...</td>\n",
       "    </tr>\n",
       "    <tr>\n",
       "      <th>3</th>\n",
       "      <td>I want to have the 12-19-2017 deletions proce...</td>\n",
       "      <td>: Process the deletion of a record that is ref...</td>\n",
       "      <td>:      Record ID: 12345      Referencing Recor...</td>\n",
       "      <td>:      Record 12345 cannot be deleted because ...</td>\n",
       "    </tr>\n",
       "    <tr>\n",
       "      <th>4</th>\n",
       "      <td>I want to have the 12-19-2017 deletions proce...</td>\n",
       "      <td>: Process the deletion of a record that does n...</td>\n",
       "      <td>:      Record ID: 99999</td>\n",
       "      <td>:      Record 99999 does not exist in the data...</td>\n",
       "    </tr>\n",
       "  </tbody>\n",
       "</table>\n",
       "</div>"
      ],
      "text/plain": [
       "                                          User Story  \\\n",
       "0   I want to have the 12-19-2017 deletions proce...   \n",
       "1   I want to have the 12-19-2017 deletions proce...   \n",
       "2   I want to have the 12-19-2017 deletions proce...   \n",
       "3   I want to have the 12-19-2017 deletions proce...   \n",
       "4   I want to have the 12-19-2017 deletions proce...   \n",
       "\n",
       "                                         Description  \\\n",
       "0         : Process the deletion of a single record.   \n",
       "1        : Process the deletion of multiple records.   \n",
       "2  : Process the deletion of a record with child ...   \n",
       "3  : Process the deletion of a record that is ref...   \n",
       "4  : Process the deletion of a record that does n...   \n",
       "\n",
       "                                               Input  \\\n",
       "0                            :      Record ID: 12345   \n",
       "1             :      Record IDs: 12345, 67890, 98765   \n",
       "2  :      Record ID: 12345      Child Record IDs:...   \n",
       "3  :      Record ID: 12345      Referencing Recor...   \n",
       "4                            :      Record ID: 99999   \n",
       "\n",
       "                                     Expected Output  \n",
       "0  :      Record 12345 is deleted from the database.  \n",
       "1  :      Records 12345, 67890, and 98765 are del...  \n",
       "2  :      Record 12345 and its child records (543...  \n",
       "3  :      Record 12345 cannot be deleted because ...  \n",
       "4  :      Record 99999 does not exist in the data...  "
      ]
     },
     "execution_count": 6,
     "metadata": {},
     "output_type": "execute_result"
    }
   ],
   "source": [
    "df.head()"
   ]
  },
  {
   "cell_type": "markdown",
   "metadata": {},
   "source": [
    "Taking only the user story and description column"
   ]
  },
  {
   "cell_type": "code",
   "execution_count": 7,
   "metadata": {},
   "outputs": [
    {
     "data": {
      "text/html": [
       "<div>\n",
       "<style scoped>\n",
       "    .dataframe tbody tr th:only-of-type {\n",
       "        vertical-align: middle;\n",
       "    }\n",
       "\n",
       "    .dataframe tbody tr th {\n",
       "        vertical-align: top;\n",
       "    }\n",
       "\n",
       "    .dataframe thead th {\n",
       "        text-align: right;\n",
       "    }\n",
       "</style>\n",
       "<table border=\"1\" class=\"dataframe\">\n",
       "  <thead>\n",
       "    <tr style=\"text-align: right;\">\n",
       "      <th></th>\n",
       "      <th>User Story</th>\n",
       "      <th>Description</th>\n",
       "    </tr>\n",
       "  </thead>\n",
       "  <tbody>\n",
       "    <tr>\n",
       "      <th>0</th>\n",
       "      <td>I want to have the 12-19-2017 deletions proce...</td>\n",
       "      <td>: Process the deletion of a single record.</td>\n",
       "    </tr>\n",
       "    <tr>\n",
       "      <th>1</th>\n",
       "      <td>I want to have the 12-19-2017 deletions proce...</td>\n",
       "      <td>: Process the deletion of multiple records.</td>\n",
       "    </tr>\n",
       "    <tr>\n",
       "      <th>2</th>\n",
       "      <td>I want to have the 12-19-2017 deletions proce...</td>\n",
       "      <td>: Process the deletion of a record with child ...</td>\n",
       "    </tr>\n",
       "    <tr>\n",
       "      <th>3</th>\n",
       "      <td>I want to have the 12-19-2017 deletions proce...</td>\n",
       "      <td>: Process the deletion of a record that is ref...</td>\n",
       "    </tr>\n",
       "    <tr>\n",
       "      <th>4</th>\n",
       "      <td>I want to have the 12-19-2017 deletions proce...</td>\n",
       "      <td>: Process the deletion of a record that does n...</td>\n",
       "    </tr>\n",
       "  </tbody>\n",
       "</table>\n",
       "</div>"
      ],
      "text/plain": [
       "                                          User Story  \\\n",
       "0   I want to have the 12-19-2017 deletions proce...   \n",
       "1   I want to have the 12-19-2017 deletions proce...   \n",
       "2   I want to have the 12-19-2017 deletions proce...   \n",
       "3   I want to have the 12-19-2017 deletions proce...   \n",
       "4   I want to have the 12-19-2017 deletions proce...   \n",
       "\n",
       "                                         Description  \n",
       "0         : Process the deletion of a single record.  \n",
       "1        : Process the deletion of multiple records.  \n",
       "2  : Process the deletion of a record with child ...  \n",
       "3  : Process the deletion of a record that is ref...  \n",
       "4  : Process the deletion of a record that does n...  "
      ]
     },
     "execution_count": 7,
     "metadata": {},
     "output_type": "execute_result"
    }
   ],
   "source": [
    "df=df[[\"User Story\",\"Description\"]]\n",
    "df = df.dropna()\n",
    "df.head()"
   ]
  },
  {
   "cell_type": "code",
   "execution_count": 8,
   "metadata": {},
   "outputs": [
    {
     "data": {
      "text/plain": [
       "((7351, 2), (817, 2))"
      ]
     },
     "execution_count": 8,
     "metadata": {},
     "output_type": "execute_result"
    }
   ],
   "source": [
    "train_df,test_df = train_test_split(df,test_size=0.1)\n",
    "train_df.shape,test_df.shape "
   ]
  },
  {
   "cell_type": "code",
   "execution_count": 9,
   "metadata": {},
   "outputs": [],
   "source": [
    "class TestDataset(Dataset):\n",
    "    \n",
    "    def __init__(\n",
    "        self,\n",
    "        data:pd.DataFrame,\n",
    "        tokenizer:T5Tokenizer,\n",
    "        userstory_max_token_len:int=512,\n",
    "        description_max_token_len:int=200\n",
    "    ):\n",
    "        self.tokenizer = tokenizer\n",
    "        self.data = data\n",
    "        self.userstory_max_token_len = userstory_max_token_len\n",
    "        self.description_max_token_len = description_max_token_len\n",
    "        \n",
    "        \n",
    "    def __len__(self):\n",
    "        return len(self.data)\n",
    "    \n",
    "    def __getitem__(self,index:int):\n",
    "        data_row = self.data.iloc[index]\n",
    "        userstory = data_row[\"User Story\"]\n",
    "        userstory_encoding = tokenizer(\n",
    "            userstory,\n",
    "            max_length = self.userstory_max_token_len,\n",
    "            padding = \"max_length\",\n",
    "            truncation = True,\n",
    "            return_attention_mask = True,\n",
    "            add_special_tokens = True,\n",
    "            return_tensors = \"pt\"\n",
    "        )\n",
    "        description_encoding = tokenizer(\n",
    "            data_row[\"Description\"],\n",
    "            max_length = self.description_max_token_len,\n",
    "            padding = \"max_length\",\n",
    "            truncation = True,\n",
    "            return_attention_mask = True,\n",
    "            add_special_tokens = True,\n",
    "            return_tensors = \"pt\"\n",
    "        )\n",
    "        \n",
    "        labels = description_encoding[\"input_ids\"]\n",
    "        labels[labels==0] = -100\n",
    "        \n",
    "        return dict(\n",
    "            userstory = userstory,\n",
    "            description = data_row[\"Description\"],\n",
    "            userstory_input_ids = userstory_encoding[\"input_ids\"].flatten(),\n",
    "            userstory_attention_mask = userstory_encoding[\"attention_mask\"].flatten(),\n",
    "            labels=labels.flatten(),\n",
    "            labels_attention_mask = description_encoding[\"attention_mask\"].flatten(),\n",
    "        )"
   ]
  },
  {
   "cell_type": "code",
   "execution_count": 10,
   "metadata": {},
   "outputs": [],
   "source": [
    "class TestDatasetModule(pl.LightningDataModule):\n",
    "    def __init__(self,\n",
    "                 train_df:pd.DataFrame,\n",
    "                 test_df:pd.DataFrame,\n",
    "                 tokenizer:T5Tokenizer,\n",
    "                 batch_size:int=8,\n",
    "                 userstory_max_token_len:int=512,\n",
    "                 description_max_token_len:int=200):\n",
    "        super().__init__()\n",
    "        self.train_df = train_df\n",
    "        self.test_df=test_df\n",
    "        self.batch_size = batch_size\n",
    "        self.tokenizer = tokenizer\n",
    "        self.userstory_max_token_len = userstory_max_token_len\n",
    "        self.description_max_token_len = description_max_token_len\n",
    "    \n",
    "    def setup(self, stage=None):\n",
    "        self.train_dataset = TestDataset(\n",
    "            self.train_df,\n",
    "            self.tokenizer,\n",
    "            self.userstory_max_token_len,\n",
    "            self.description_max_token_len\n",
    "        )\n",
    "        self.test_dataset = TestDataset(\n",
    "            self.test_df,\n",
    "            self.tokenizer,\n",
    "            self.userstory_max_token_len,\n",
    "            self.description_max_token_len\n",
    "        )\n",
    "        \n",
    "    def train_dataloader(self):\n",
    "        return DataLoader(\n",
    "            self.train_dataset,\n",
    "            batch_size=self.batch_size,\n",
    "            shuffle=True,\n",
    "            num_workers =2\n",
    "        )\n",
    "    def val_dataloader(self):\n",
    "        return DataLoader(\n",
    "            self.test_dataset,\n",
    "            batch_size=self.batch_size,\n",
    "            shuffle=False,\n",
    "            num_workers =2\n",
    "        )\n",
    "    def test_dataloader(self):\n",
    "        return DataLoader(\n",
    "            self.train_dataset,\n",
    "            batch_size=self.batch_size,\n",
    "            shuffle=False,\n",
    "            num_workers =2\n",
    "        )\n",
    "        "
   ]
  },
  {
   "cell_type": "code",
   "execution_count": 11,
   "metadata": {},
   "outputs": [],
   "source": [
    "MODEL_NAME = \"t5-base\"\n",
    "tokenizer = T5Tokenizer.from_pretrained(MODEL_NAME)"
   ]
  },
  {
   "cell_type": "code",
   "execution_count": 12,
   "metadata": {},
   "outputs": [],
   "source": [
    "userstory_token_counts,description_token_counts = [],[]\n",
    "for _,row in train_df.iterrows():\n",
    "    userstory_token_count = len(tokenizer.encode(row[\"User Story\"]))\n",
    "    userstory_token_counts.append(userstory_token_count)\n",
    "    \n",
    "    description_token_count = len(tokenizer.encode(row[\"Description\"]))\n",
    "    description_token_counts.append(description_token_count)"
   ]
  },
  {
   "cell_type": "code",
   "execution_count": 13,
   "metadata": {},
   "outputs": [
    {
     "data": {
      "text/plain": [
       "Text(0.5, 1.0, 'Description token count')"
      ]
     },
     "execution_count": 13,
     "metadata": {},
     "output_type": "execute_result"
    },
    {
     "data": {
      "image/png": "[encoded data removed]",
      "text/plain": [
       "<Figure size 1600x1000 with 2 Axes>"
      ]
     },
     "metadata": {
      "image/png": {
       "height": 842,
       "width": 1327
      }
     },
     "output_type": "display_data"
    }
   ],
   "source": [
    "fig,(ax1,ax2) = plt.subplots(1,2)\n",
    "sns.histplot(userstory_token_counts,ax = ax1)\n",
    "ax1.set_title(\"Userstory token count\")\n",
    "sns.histplot(description_token_counts,ax = ax2)\n",
    "ax2.set_title(\"Description token count\")"
   ]
  },
  {
   "cell_type": "code",
   "execution_count": 14,
   "metadata": {},
   "outputs": [],
   "source": [
    "N_EPOCHS = 3\n",
    "BATCH_SIZE = 8\n",
    "data_module = TestDatasetModule(train_df,test_df,tokenizer,batch_size=BATCH_SIZE)"
   ]
  },
  {
   "cell_type": "markdown",
   "metadata": {},
   "source": [
    "Model"
   ]
  },
  {
   "cell_type": "code",
   "execution_count": 15,
   "metadata": {},
   "outputs": [],
   "source": [
    "class TestDataModel(pl.LightningModule):\n",
    "    def __init__(self):\n",
    "        super().__init__()\n",
    "        self.model = T5ForConditionalGeneration.from_pretrained(MODEL_NAME,return_dict=True)\n",
    "    \n",
    "    def forward(self,input_ids,attention_mask,decoder_attention_mask,labels=None):\n",
    "        output = self.model(\n",
    "            input_ids,\n",
    "            attention_mask = attention_mask,\n",
    "            labels= labels,\n",
    "            decoder_attention_mask = decoder_attention_mask\n",
    "        )\n",
    "        return output.loss,output.logits\n",
    "    \n",
    "    def training_step(self,batch,batch_idx):\n",
    "        input_ids = batch[\"userstory_input_ids\"]\n",
    "        attention_mask = batch[\"userstory_attention_mask\"]\n",
    "        labels = batch[\"labels\"]\n",
    "        labels_attention_mask =batch[\"labels_attention_mask\"]\n",
    "        loss,outputs= self(\n",
    "            input_ids=input_ids,\n",
    "            attention_mask= attention_mask,\n",
    "            decoder_attention_mask= labels_attention_mask,\n",
    "            labels=labels\n",
    "        )\n",
    "        self.log(\"train_loss\",loss,prog_bar=True,logger=True)\n",
    "        return loss\n",
    "    \n",
    "    def validation_step(self,batch,batch_idx):\n",
    "        input_ids = batch[\"userstory_input_ids\"]\n",
    "        attention_mask = batch[\"userstory_attention_mask\"]\n",
    "        labels = batch[\"labels\"]\n",
    "        labels_attention_mask =batch[\"labels_attention_mask\"]\n",
    "        loss,outputs= self(\n",
    "            input_ids=input_ids,\n",
    "            attention_mask= attention_mask,\n",
    "            decoder_attention_mask= labels_attention_mask,\n",
    "            labels=labels\n",
    "        )\n",
    "        self.log(\"val_loss\",loss,prog_bar=True,logger=True)\n",
    "        return loss\n",
    "    \n",
    "    def test_step(self,batch,batch_idx):\n",
    "        input_ids = batch[\"userstory_input_ids\"]\n",
    "        attention_mask = batch[\"userstory_attention_mask\"]\n",
    "        labels = batch[\"labels\"]\n",
    "        labels_attention_mask =batch[\"labels_attention_mask\"]\n",
    "        loss,outputs= self(\n",
    "            input_ids=input_ids,\n",
    "            attention_mask= attention_mask,\n",
    "            decoder_attention_mask= labels_attention_mask,\n",
    "            labels=labels\n",
    "        )\n",
    "        self.log(\"test_loss\",loss,prog_bar=True,logger=True)\n",
    "        return loss\n",
    "    \n",
    "    def configure_optimizers(self):\n",
    "        return AdamW(self.parameters(),lr=0.0001)"
   ]
  },
  {
   "cell_type": "code",
   "execution_count": 16,
   "metadata": {},
   "outputs": [],
   "source": [
    "model = TestDataModel()"
   ]
  },
  {
   "cell_type": "code",
   "execution_count": 17,
   "metadata": {},
   "outputs": [
    {
     "data": {
      "text/plain": [
       "Reusing TensorBoard on port 6006 (pid 27244), started 0:57:01 ago. (Use '!kill 27244' to kill it.)"
      ]
     },
     "metadata": {},
     "output_type": "display_data"
    },
    {
     "data": {
      "text/html": [
       "\n",
       "      <iframe id=\"tensorboard-frame-c0b9dc77e728f959\" width=\"100%\" height=\"800\" frameborder=\"0\">\n",
       "      </iframe>\n",
       "      <script>\n",
       "        (function() {\n",
       "          const frame = document.getElementById(\"tensorboard-frame-c0b9dc77e728f959\");\n",
       "          const url = new URL(\"http://localhost\");\n",
       "          const port = 6006;\n",
       "          if (port) {\n",
       "            url.port = port;\n",
       "          }\n",
       "          frame.src = url;\n",
       "        })();\n",
       "      </script>\n",
       "    "
      ],
      "text/plain": [
       "<IPython.core.display.HTML object>"
      ]
     },
     "metadata": {},
     "output_type": "display_data"
    }
   ],
   "source": [
    "%load_ext tensorboard\n",
    "%tensorboard --logdir ./lightning_logs"
   ]
  },
  {
   "cell_type": "code",
   "execution_count": 18,
   "metadata": {},
   "outputs": [
    {
     "name": "stderr",
     "output_type": "stream",
     "text": [
      "GPU available: False, used: False\n",
      "TPU available: False, using: 0 TPU cores\n",
      "IPU available: False, using: 0 IPUs\n",
      "HPU available: False, using: 0 HPUs\n"
     ]
    }
   ],
   "source": [
    "checkpoint_callback = ModelCheckpoint(\n",
    "    dirpath = \"checkpoints\",\n",
    "    filename = \"best-checkpoint\",\n",
    "    save_top_k =1,\n",
    "    verbose = True,\n",
    "    monitor = \"val_loss\",\n",
    "    mode = \"min\"\n",
    ")\n",
    "logger = TensorBoardLogger(\"lightning_logs\",name=\"test-case-data\")\n",
    "trainer = pl.Trainer(\n",
    "    logger = logger,\n",
    "    callbacks = checkpoint_callback,\n",
    "    max_epochs=N_EPOCHS,\n",
    "    # gpus = 1,\n",
    "    # progress_bar_refresh_rate = 30\n",
    ")"
   ]
  },
  {
   "cell_type": "code",
   "execution_count": 19,
   "metadata": {},
   "outputs": [
    {
     "name": "stderr",
     "output_type": "stream",
     "text": [
      "c:\\Users\\arusu\\AppData\\Local\\Programs\\Python\\Python312\\Lib\\site-packages\\transformers\\optimization.py:457: FutureWarning: This implementation of AdamW is deprecated and will be removed in a future version. Use the PyTorch implementation torch.optim.AdamW instead, or set `no_deprecation_warning=True` to disable this warning\n",
      "  warnings.warn(\n",
      "\n",
      "  | Name  | Type                       | Params\n",
      "-----------------------------------------------------\n",
      "0 | model | T5ForConditionalGeneration | 222 M \n",
      "-----------------------------------------------------\n",
      "222 M     Trainable params\n",
      "0         Non-trainable params\n",
      "222 M     Total params\n",
      "891.614   Total estimated model params size (MB)\n"
     ]
    },
    {
     "name": "stdout",
     "output_type": "stream",
     "text": [
      "Sanity Checking: |          | 0/? [00:00<?, ?it/s]"
     ]
    },
    {
     "name": "stderr",
     "output_type": "stream",
     "text": [
      "c:\\Users\\arusu\\AppData\\Local\\Programs\\Python\\Python312\\Lib\\site-packages\\pytorch_lightning\\trainer\\connectors\\data_connector.py:436: Consider setting `persistent_workers=True` in 'val_dataloader' to speed up the dataloader worker initialization.\n"
     ]
    }
   ],
   "source": [
    "trainer.fit(model,data_module)"
   ]
  }
 ],
 "metadata": {
  "kernelspec": {
   "display_name": "venv",
   "language": "python",
   "name": "python3"
  },
  "language_info": {
   "codemirror_mode": {
    "name": "ipython",
    "version": 3
   },
   "file_extension": ".py",
   "mimetype": "text/x-python",
   "name": "python",
   "nbconvert_exporter": "python",
   "pygments_lexer": "ipython3",
   "version": "3.12.1"
  }
 },
 "nbformat": 4,
 "nbformat_minor": 2
}
