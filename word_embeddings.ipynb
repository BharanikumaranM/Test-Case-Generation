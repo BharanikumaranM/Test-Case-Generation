{
 "cells": [
  {
   "cell_type": "code",
   "execution_count": 52,
   "metadata": {},
   "outputs": [],
   "source": [
    "import gensim\n",
    "import re\n",
    "import pandas as pd\n",
    "from nltk.corpus import stopwords\n",
    "from nltk.tokenize import word_tokenize\n",
    "from nltk import pos_tag"
   ]
  },
  {
   "cell_type": "code",
   "execution_count": 53,
   "metadata": {},
   "outputs": [],
   "source": [
    "def load_stop(file_path):\n",
    "    with open(file_path, 'r', encoding='utf-8') as file:\n",
    "        stopwords_list = file.read().splitlines()\n",
    "    return stopwords_list"
   ]
  },
  {
   "cell_type": "code",
   "execution_count": 54,
   "metadata": {},
   "outputs": [],
   "source": [
    "def load_stopwords(file_path):\n",
    "    with open(file_path, 'r') as file:\n",
    "        stopwords_list = file.read().splitlines()\n",
    "    return stopwords_list\n",
    "\n",
    "def custom_tokenizer(text):\n",
    "    stopwords_list = load_stop(\"./stopwords-en.txt\")\n",
    "    # Tokenize the text\n",
    "    tokens = word_tokenize(text)\n",
    "    # Remove stopwords\n",
    "    filtered_tokens = [token for token in tokens if token.lower() not in stopwords_list]\n",
    "    return filtered_tokens\n",
    "\n",
    "def identify_pos(tokens):\n",
    "    # Tag tokens with parts of speech\n",
    "    pos_tags = pos_tag(tokens)\n",
    "    pos_list = []\n",
    "    for word, tag in pos_tags:\n",
    "        if tag.startswith('VB') or tag.startswith('JJ') or tag.startswith('NN'):\n",
    "            pos_list.append(word)\n",
    "    return pos_list\n"
   ]
  },
  {
   "cell_type": "code",
   "execution_count": 102,
   "metadata": {},
   "outputs": [
    {
     "data": {
      "text/html": [
       "<div>\n",
       "<style scoped>\n",
       "    .dataframe tbody tr th:only-of-type {\n",
       "        vertical-align: middle;\n",
       "    }\n",
       "\n",
       "    .dataframe tbody tr th {\n",
       "        vertical-align: top;\n",
       "    }\n",
       "\n",
       "    .dataframe thead th {\n",
       "        text-align: right;\n",
       "    }\n",
       "</style>\n",
       "<table border=\"1\" class=\"dataframe\">\n",
       "  <thead>\n",
       "    <tr style=\"text-align: right;\">\n",
       "      <th></th>\n",
       "      <th>Combined</th>\n",
       "    </tr>\n",
       "  </thead>\n",
       "  <tbody>\n",
       "    <tr>\n",
       "      <th>0</th>\n",
       "      <td>Description : Process the deletion of a single...</td>\n",
       "    </tr>\n",
       "    <tr>\n",
       "      <th>1</th>\n",
       "      <td>Description : Process the deletion of multiple...</td>\n",
       "    </tr>\n",
       "    <tr>\n",
       "      <th>2</th>\n",
       "      <td>Description : Process the deletion of a record...</td>\n",
       "    </tr>\n",
       "    <tr>\n",
       "      <th>3</th>\n",
       "      <td>Description : Process the deletion of a record...</td>\n",
       "    </tr>\n",
       "    <tr>\n",
       "      <th>4</th>\n",
       "      <td>Description : Process the deletion of a record...</td>\n",
       "    </tr>\n",
       "    <tr>\n",
       "      <th>...</th>\n",
       "      <td>...</td>\n",
       "    </tr>\n",
       "    <tr>\n",
       "      <th>8163</th>\n",
       "      <td>Description Verify that the article summary is...</td>\n",
       "    </tr>\n",
       "    <tr>\n",
       "      <th>8164</th>\n",
       "      <td>Description Verify that the article summary is...</td>\n",
       "    </tr>\n",
       "    <tr>\n",
       "      <th>8165</th>\n",
       "      <td>Description Verify that the article summary is...</td>\n",
       "    </tr>\n",
       "    <tr>\n",
       "      <th>8166</th>\n",
       "      <td>Description Verify that the article summary is...</td>\n",
       "    </tr>\n",
       "    <tr>\n",
       "      <th>8167</th>\n",
       "      <td>Description Verify that the article summary is...</td>\n",
       "    </tr>\n",
       "  </tbody>\n",
       "</table>\n",
       "<p>8168 rows × 1 columns</p>\n",
       "</div>"
      ],
      "text/plain": [
       "                                               Combined\n",
       "0     Description : Process the deletion of a single...\n",
       "1     Description : Process the deletion of multiple...\n",
       "2     Description : Process the deletion of a record...\n",
       "3     Description : Process the deletion of a record...\n",
       "4     Description : Process the deletion of a record...\n",
       "...                                                 ...\n",
       "8163  Description Verify that the article summary is...\n",
       "8164  Description Verify that the article summary is...\n",
       "8165  Description Verify that the article summary is...\n",
       "8166  Description Verify that the article summary is...\n",
       "8167  Description Verify that the article summary is...\n",
       "\n",
       "[8168 rows x 1 columns]"
      ]
     },
     "execution_count": 102,
     "metadata": {},
     "output_type": "execute_result"
    }
   ],
   "source": [
    "df = pd.read_excel(\"./dataset/pos.xlsx\")\n",
    "df = df[[\"Combined\"]]\n",
    "df"
   ]
  },
  {
   "cell_type": "code",
   "execution_count": 71,
   "metadata": {},
   "outputs": [],
   "source": [
    "def process_row(row):\n",
    "    text = row['Description']\n",
    "    filtered_tokens = custom_tokenizer(text)\n",
    "    words = identify_pos(filtered_tokens)\n",
    "    row['Imp Words'] = words\n",
    "    return row"
   ]
  },
  {
   "cell_type": "code",
   "execution_count": 103,
   "metadata": {},
   "outputs": [
    {
     "data": {
      "text/plain": [
       "0       [description, process, the, deletion, of, sing...\n",
       "1       [description, process, the, deletion, of, mult...\n",
       "2       [description, process, the, deletion, of, reco...\n",
       "3       [description, process, the, deletion, of, reco...\n",
       "4       [description, process, the, deletion, of, reco...\n",
       "                              ...                        \n",
       "8163    [description, verify, that, the, article, summ...\n",
       "8164    [description, verify, that, the, article, summ...\n",
       "8165    [description, verify, that, the, article, summ...\n",
       "8166    [description, verify, that, the, article, summ...\n",
       "8167    [description, verify, that, the, article, summ...\n",
       "Name: Combined, Length: 8168, dtype: object"
      ]
     },
     "execution_count": 103,
     "metadata": {},
     "output_type": "execute_result"
    }
   ],
   "source": [
    "df = df.Combined.apply(gensim.utils.simple_preprocess)\n",
    "df"
   ]
  },
  {
   "cell_type": "code",
   "execution_count": 86,
   "metadata": {},
   "outputs": [],
   "source": [
    "df = df.drop([\"Description\"],axis=1)"
   ]
  },
  {
   "cell_type": "code",
   "execution_count": 104,
   "metadata": {},
   "outputs": [
    {
     "data": {
      "text/plain": [
       "0       [description, process, the, deletion, of, sing...\n",
       "1       [description, process, the, deletion, of, mult...\n",
       "2       [description, process, the, deletion, of, reco...\n",
       "3       [description, process, the, deletion, of, reco...\n",
       "4       [description, process, the, deletion, of, reco...\n",
       "                              ...                        \n",
       "8163    [description, verify, that, the, article, summ...\n",
       "8164    [description, verify, that, the, article, summ...\n",
       "8165    [description, verify, that, the, article, summ...\n",
       "8166    [description, verify, that, the, article, summ...\n",
       "8167    [description, verify, that, the, article, summ...\n",
       "Name: Combined, Length: 8168, dtype: object"
      ]
     },
     "execution_count": 104,
     "metadata": {},
     "output_type": "execute_result"
    }
   ],
   "source": [
    "df"
   ]
  },
  {
   "cell_type": "code",
   "execution_count": 75,
   "metadata": {},
   "outputs": [
    {
     "name": "stdout",
     "output_type": "stream",
     "text": [
      "Imp Words    [Process, deletion, single, record]\n",
      "Name: 0, dtype: object\n"
     ]
    }
   ],
   "source": [
    "print(df.loc[0])"
   ]
  },
  {
   "cell_type": "markdown",
   "metadata": {},
   "source": [
    "Model"
   ]
  },
  {
   "cell_type": "code",
   "execution_count": 105,
   "metadata": {},
   "outputs": [],
   "source": [
    "model = gensim.models.Word2Vec(\n",
    "    window=10,\n",
    "    min_count=2,\n",
    "    workers=4,\n",
    ")"
   ]
  },
  {
   "cell_type": "code",
   "execution_count": 106,
   "metadata": {},
   "outputs": [],
   "source": [
    "model.build_vocab(df, progress_per=1000)"
   ]
  },
  {
   "cell_type": "code",
   "execution_count": 107,
   "metadata": {},
   "outputs": [
    {
     "data": {
      "text/plain": [
       "(1083174, 1513205)"
      ]
     },
     "execution_count": 107,
     "metadata": {},
     "output_type": "execute_result"
    }
   ],
   "source": [
    "model.train(df, total_examples=model.corpus_count, epochs=model.epochs)"
   ]
  },
  {
   "cell_type": "code",
   "execution_count": 108,
   "metadata": {},
   "outputs": [],
   "source": [
    "model.save(\"./w2vec.model\")"
   ]
  },
  {
   "cell_type": "markdown",
   "metadata": {},
   "source": [
    "Testing the Model"
   ]
  },
  {
   "cell_type": "code",
   "execution_count": 124,
   "metadata": {},
   "outputs": [
    {
     "data": {
      "text/plain": [
       "[('questions', 0.9761815667152405),\n",
       " ('learn', 0.9688206315040588),\n",
       " ('help', 0.966419517993927),\n",
       " ('recipe', 0.962226390838623),\n",
       " ('develop', 0.9612542986869812),\n",
       " ('healthy', 0.9594994187355042),\n",
       " ('assistive', 0.9590986371040344),\n",
       " ('nearest', 0.9588932394981384),\n",
       " ('guidance', 0.9577454328536987),\n",
       " ('abnormal', 0.9568710923194885)]"
      ]
     },
     "execution_count": 124,
     "metadata": {},
     "output_type": "execute_result"
    }
   ],
   "source": [
    "model.wv.most_similar(\"how\")"
   ]
  },
  {
   "cell_type": "code",
   "execution_count": 122,
   "metadata": {},
   "outputs": [
    {
     "data": {
      "text/plain": [
       "0.37742934"
      ]
     },
     "execution_count": 122,
     "metadata": {},
     "output_type": "execute_result"
    }
   ],
   "source": [
    "model.wv.similarity(w1=\"design\", w2=\"page\")"
   ]
  },
  {
   "cell_type": "markdown",
   "metadata": {},
   "source": [
    "Load a Model"
   ]
  },
  {
   "cell_type": "code",
   "execution_count": 120,
   "metadata": {},
   "outputs": [],
   "source": [
    "from gensim.models import Word2Vec\n",
    "m = Word2Vec.load(\"./w2vec.model\")"
   ]
  }
 ],
 "metadata": {
  "kernelspec": {
   "display_name": "venv",
   "language": "python",
   "name": "python3"
  },
  "language_info": {
   "codemirror_mode": {
    "name": "ipython",
    "version": 3
   },
   "file_extension": ".py",
   "mimetype": "text/x-python",
   "name": "python",
   "nbconvert_exporter": "python",
   "pygments_lexer": "ipython3",
   "version": "3.11.3"
  }
 },
 "nbformat": 4,
 "nbformat_minor": 2
}
