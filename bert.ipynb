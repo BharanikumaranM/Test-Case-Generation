{
 "cells": [
  {
   "cell_type": "code",
   "execution_count": 1,
   "id": "29b1897a",
   "metadata": {
    "scrolled": false
   },
   "outputs": [
    {
     "name": "stderr",
     "output_type": "stream",
     "text": [
      "d:\\Mini Project\\TDD\\venv\\Lib\\site-packages\\tqdm\\auto.py:21: TqdmWarning: IProgress not found. Please update jupyter and ipywidgets. See https://ipywidgets.readthedocs.io/en/stable/user_install.html\n",
      "  from .autonotebook import tqdm as notebook_tqdm\n",
      "Some weights of the model checkpoint at google-bert/bert-base-uncased were not used when initializing BertForMaskedLM: ['bert.pooler.dense.bias', 'bert.pooler.dense.weight', 'cls.seq_relationship.bias', 'cls.seq_relationship.weight']\n",
      "- This IS expected if you are initializing BertForMaskedLM from the checkpoint of a model trained on another task or with another architecture (e.g. initializing a BertForSequenceClassification model from a BertForPreTraining model).\n",
      "- This IS NOT expected if you are initializing BertForMaskedLM from the checkpoint of a model that you expect to be exactly identical (initializing a BertForSequenceClassification model from a BertForSequenceClassification model).\n"
     ]
    }
   ],
   "source": [
    "import warnings\n",
    "from transformers import AutoTokenizer, AutoModelForMaskedLM\n",
    "\n",
    "# Suppress the warning\n",
    "warnings.filterwarnings(\"ignore\")\n",
    "\n",
    "tokenizer = AutoTokenizer.from_pretrained(\"google-bert/bert-base-uncased\")\n",
    "model = AutoModelForMaskedLM.from_pretrained(\"google-bert/bert-base-uncased\")"
   ]
  },
  {
   "cell_type": "code",
   "execution_count": 2,
   "id": "84562ccd",
   "metadata": {},
   "outputs": [],
   "source": [
    "import pandas as pd\n",
    "import numpy as np\n",
    "import torch\n",
    "dataset = pd.read_excel('final.xlsx')\n",
    "\n",
    "input_texts = dataset[\"User Story\"].tolist()\n",
    "output_texts = dataset[\"Description\"].tolist()"
   ]
  },
  {
   "cell_type": "code",
   "execution_count": 3,
   "id": "f07cb17c",
   "metadata": {},
   "outputs": [],
   "source": [
    "from transformers import AutoTokenizer\n",
    "\n",
    "# tokenizer = AutoTokenizer.from_pretrained(\"google-bert/bert-base-uncased\")\n",
    "\n",
    "tokenized_inputs = tokenizer(\n",
    "    input_texts,\n",
    "    max_length=512,\n",
    "    padding='max_length',\n",
    "    truncation=True,\n",
    "    return_tensors='pt'\n",
    ")\n",
    "\n",
    "tokenized_outputs = tokenizer(\n",
    "    output_texts,\n",
    "    max_length=512,\n",
    "    padding='max_length',\n",
    "    truncation=True,\n",
    "    return_tensors='pt'\n",
    ")"
   ]
  },
  {
   "cell_type": "code",
   "execution_count": 4,
   "id": "d3c0292d",
   "metadata": {},
   "outputs": [
    {
     "data": {
      "text/plain": [
       "{'input_ids': tensor([[ 101, 1045, 2215,  ...,    0,    0,    0],\n",
       "        [ 101, 1045, 2215,  ...,    0,    0,    0],\n",
       "        [ 101, 1045, 2215,  ...,    0,    0,    0],\n",
       "        ...,\n",
       "        [ 101, 1045, 2215,  ...,    0,    0,    0],\n",
       "        [ 101, 1045, 2215,  ...,    0,    0,    0],\n",
       "        [ 101, 1045, 2215,  ...,    0,    0,    0]]), 'token_type_ids': tensor([[0, 0, 0,  ..., 0, 0, 0],\n",
       "        [0, 0, 0,  ..., 0, 0, 0],\n",
       "        [0, 0, 0,  ..., 0, 0, 0],\n",
       "        ...,\n",
       "        [0, 0, 0,  ..., 0, 0, 0],\n",
       "        [0, 0, 0,  ..., 0, 0, 0],\n",
       "        [0, 0, 0,  ..., 0, 0, 0]]), 'attention_mask': tensor([[1, 1, 1,  ..., 0, 0, 0],\n",
       "        [1, 1, 1,  ..., 0, 0, 0],\n",
       "        [1, 1, 1,  ..., 0, 0, 0],\n",
       "        ...,\n",
       "        [1, 1, 1,  ..., 0, 0, 0],\n",
       "        [1, 1, 1,  ..., 0, 0, 0],\n",
       "        [1, 1, 1,  ..., 0, 0, 0]])}"
      ]
     },
     "execution_count": 4,
     "metadata": {},
     "output_type": "execute_result"
    }
   ],
   "source": [
    "tokenized_inputs"
   ]
  },
  {
   "cell_type": "code",
   "execution_count": 5,
   "id": "bbfd8453",
   "metadata": {},
   "outputs": [],
   "source": [
    "class CustomDataset(torch.utils.data.Dataset):\n",
    "    def __init__(self, inputs, outputs):\n",
    "        self.inputs = inputs\n",
    "        self.outputs = outputs\n",
    "\n",
    "    def __len__(self):\n",
    "        # Ensure the lengths of input_ids and labels match\n",
    "        return len(self.inputs['input_ids'])\n",
    "\n",
    "    def __getitem__(self, idx):\n",
    "        return {\n",
    "            'input_ids': self.inputs['input_ids'][idx],\n",
    "            'token_type_ids': self.inputs['token_type_ids'][idx],\n",
    "            'attention_mask': self.inputs['attention_mask'][idx],\n",
    "            'labels': self.outputs['input_ids'][idx],  # Assuming 'input_ids' is present in outputs\n",
    "        }\n",
    "\n",
    "# Example dataset\n",
    "dataset = CustomDataset(inputs=tokenized_inputs, outputs=tokenized_outputs)"
   ]
  },
  {
   "cell_type": "code",
   "execution_count": 7,
   "id": "562a1dc8",
   "metadata": {},
   "outputs": [
    {
     "name": "stderr",
     "output_type": "stream",
     "text": []
    }
   ],
   "source": [
    "from transformers import Trainer, TrainingArguments\n",
    "\n",
    "training_args = TrainingArguments(\n",
    "    output_dir=\"./custom-model-bert\",\n",
    "    per_device_train_batch_size=4,\n",
    "    save_steps=1000,\n",
    "    save_total_limit=2,\n",
    "    num_train_epochs=3,\n",
    ")\n",
    "\n",
    "trainer = Trainer(\n",
    "    model=model,\n",
    "    args=training_args,\n",
    "    train_dataset=dataset,\n",
    ")\n",
    "\n",
    "trainer.train()"
   ]
  },
  {
   "cell_type": "code",
   "execution_count": null,
   "id": "b522ae47",
   "metadata": {},
   "outputs": [],
   "source": [
    "model.save_pretrained(\"./custom-model-test-case\")"
   ]
  },
  {
   "cell_type": "code",
   "execution_count": null,
   "id": "0e744ace",
   "metadata": {},
   "outputs": [
    {
     "data": {
      "text/plain": [
       "('./muril-model-tokenizer\\\\tokenizer_config.json',\n",
       " './muril-model-tokenizer\\\\special_tokens_map.json',\n",
       " './muril-model-tokenizer\\\\vocab.txt',\n",
       " './muril-model-tokenizer\\\\added_tokens.json',\n",
       " './muril-model-tokenizer\\\\tokenizer.json')"
      ]
     },
     "execution_count": 64,
     "metadata": {},
     "output_type": "execute_result"
    }
   ],
   "source": [
    "tokenizer.save_pretrained('./test-case-model-tokenizer')"
   ]
  },
  {
   "cell_type": "code",
   "execution_count": null,
   "id": "349e9c9d",
   "metadata": {},
   "outputs": [],
   "source": [
    "from transformers import pipeline\n",
    "\n",
    "def generate_response(user_question, model, tokenizer):\n",
    "    input_ids = tokenizer.encode(user_question, return_tensors=\"pt\", max_length=256, truncation=True)\n",
    "#     # Decode\n",
    "#     with torch.no_grad():\n",
    "#         outputs = model.generate(input_ids)\n",
    "\n",
    "#     # Decode the generated output\n",
    "#     decoded_output = tokenizer.decode(outputs[0], skip_special_tokens=True)\n",
    "#     print(decoded_output)\n",
    "    output_ids = model.generate(input_ids, max_length=50, num_beams=5, length_penalty=0.6, no_repeat_ngram_size=2)\n",
    "    chatbot_response = tokenizer.decode(output_ids[0], skip_special_tokens=True)\n",
    "    return chatbot_response"
   ]
  },
  {
   "cell_type": "code",
   "execution_count": null,
   "id": "a584ef5b",
   "metadata": {},
   "outputs": [],
   "source": [
    "# Load your custom model and tokenizer\n",
    "custom_model = AutoModelForMaskedLM.from_pretrained(\"./custom-model-test-case\")\n",
    "custom_tokenizer = AutoTokenizer.from_pretrained(\"test-case-model-tokenizer\")\n",
    "\n",
    "# Example usage\n",
    "user_question = \" I want to move on to round 3 of the Help page edits, so that I can get approvals from leadership.\"\n",
    "chatbot_response = generate_response(user_question, custom_model, custom_tokenizer)\n",
    "print(chatbot_response)"
   ]
  }
 ],
 "metadata": {
  "kernelspec": {
   "display_name": "Python 3 (ipykernel)",
   "language": "python",
   "name": "python3"
  },
  "language_info": {
   "codemirror_mode": {
    "name": "ipython",
    "version": 3
   },
   "file_extension": ".py",
   "mimetype": "text/x-python",
   "name": "python",
   "nbconvert_exporter": "python",
   "pygments_lexer": "ipython3",
   "version": "3.11.3"
  }
 },
 "nbformat": 4,
 "nbformat_minor": 5
}
