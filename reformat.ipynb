{
 "cells": [
  {
   "cell_type": "code",
   "execution_count": 1,
   "metadata": {},
   "outputs": [
    {
     "name": "stderr",
     "output_type": "stream",
     "text": [
      "C:\\Users\\bOct0\\AppData\\Local\\Temp\\ipykernel_13328\\2434883213.py:1: DeprecationWarning: \n",
      "Pyarrow will become a required dependency of pandas in the next major release of pandas (pandas 3.0),\n",
      "(to allow more performant data types, such as the Arrow string type, and better interoperability with other libraries)\n",
      "but was not found to be installed on your system.\n",
      "If this would cause problems for you,\n",
      "please provide us feedback at https://github.com/pandas-dev/pandas/issues/54466\n",
      "        \n",
      "  import pandas as pd\n"
     ]
    }
   ],
   "source": [
    "import pandas as pd\n",
    "import re\n",
    "from bs4 import BeautifulSoup\n",
    "import markdown\n",
    "import re\n"
   ]
  },
  {
   "cell_type": "code",
   "execution_count": 2,
   "metadata": {},
   "outputs": [],
   "source": [
    "excel_file = 'kfk.xlsx'\n",
    "df = pd.read_excel(excel_file)"
   ]
  },
  {
   "cell_type": "code",
   "execution_count": 3,
   "metadata": {},
   "outputs": [
    {
     "name": "stdout",
     "output_type": "stream",
     "text": [
      "> **Test Case 1**\n",
      "> * **Description:** Contact a repository that does not exist\n",
      "> * **Input:**\n",
      ">     * Repository name: `non-existent-repository`\n",
      "> * **Expected Output:**\n",
      ">     * Error message indicating that the repository does not exist\n",
      "> \n",
      "> **Test Case 2**\n",
      "> * **Description:** Contact a repository with a valid name\n",
      "> * **Input:**\n",
      ">     * Repository name: `my-repository`\n",
      "> * **Expected Output:**\n",
      ">     * Response containing information about the repository, such as its description, contributors, and recent commits\n",
      "> \n",
      "> **Test Case 3**\n",
      "> * **Description:** Contact a private repository without proper authentication\n",
      "> * **Input:**\n",
      ">     * Repository name: `private-repository`\n",
      "> * **Expected Output:**\n",
      ">     * Error message indicating that authentication is required\n",
      "> \n",
      "> **Test Case 4**\n",
      "> * **Description:** Contact a public repository with proper authentication\n",
      "> * **Input:**\n",
      ">     * Repository name: `public-repository`\n",
      "> * **Expected Output:**\n",
      ">     * Response containing information about the repository, even though it is public\n",
      "> \n",
      "> **Test Case 5**\n",
      "> * **Description:** Contact a repository and specify a specific commit SHA\n",
      "> * **Input:**\n",
      ">     * Repository name: `my-repository`\n",
      ">     * Commit SHA: `1234567890abcdef`\n",
      "> * **Expected Output:**\n",
      ">     * Response containing information about the specified commit, such as its author, date, and message\n"
     ]
    }
   ],
   "source": [
    "input_string = df['response'][1299]\n",
    "print(input_string)"
   ]
  },
  {
   "cell_type": "code",
   "execution_count": 4,
   "metadata": {},
   "outputs": [
    {
     "data": {
      "text/plain": [
       "'Test Case 1 Description: Contact a repository that does not exist Input: Repository name: non-existent-repository Expected Output: Error message indicating that the repository does not existTest Case 2 Description: Contact a repository with a valid name Input: Repository name: my-repository Expected Output: Response containing information about the repository, such as its description, contributors, and recent commitsTest Case 3 Description: Contact a private repository without proper authentication Input: Repository name: private-repository Expected Output: Error message indicating that authentication is requiredTest Case 4 Description: Contact a public repository with proper authentication Input: Repository name: public-repository Expected Output: Response containing information about the repository, even though it is publicTest Case 5 Description: Contact a repository and specify a specific commit SHA Input: Repository name: my-repository Commit SHA: 1234567890abcdef Expected Output: Response containing information about the specified commit, such as its author, date, and message'"
      ]
     },
     "execution_count": 4,
     "metadata": {},
     "output_type": "execute_result"
    }
   ],
   "source": [
    "html = markdown.markdown(input_string)\n",
    "text = BeautifulSoup(html, features='html.parser')\n",
    "text = text.get_text().strip().replace('\\n','')\n",
    "text = text.strip().replace('*','')\n",
    "res = re.sub(' +', ' ', text)\n",
    "res"
   ]
  },
  {
   "cell_type": "code",
   "execution_count": 5,
   "metadata": {},
   "outputs": [
    {
     "data": {
      "text/html": [
       "<div>\n",
       "<style scoped>\n",
       "    .dataframe tbody tr th:only-of-type {\n",
       "        vertical-align: middle;\n",
       "    }\n",
       "\n",
       "    .dataframe tbody tr th {\n",
       "        vertical-align: top;\n",
       "    }\n",
       "\n",
       "    .dataframe thead th {\n",
       "        text-align: right;\n",
       "    }\n",
       "</style>\n",
       "<table border=\"1\" class=\"dataframe\">\n",
       "  <thead>\n",
       "    <tr style=\"text-align: right;\">\n",
       "      <th></th>\n",
       "      <th>User Story</th>\n",
       "      <th>Description</th>\n",
       "      <th>Input</th>\n",
       "      <th>Expected Output</th>\n",
       "    </tr>\n",
       "  </thead>\n",
       "  <tbody>\n",
       "    <tr>\n",
       "      <th>0</th>\n",
       "      <td>I want to receive suggestions about local spo...</td>\n",
       "      <td>Contact a repository that does not exist</td>\n",
       "      <td>Repository name: non-existent-repository</td>\n",
       "      <td>Error message indicating that the repository d...</td>\n",
       "    </tr>\n",
       "    <tr>\n",
       "      <th>1</th>\n",
       "      <td>I want to receive suggestions about local spo...</td>\n",
       "      <td>Contact a repository with a valid name</td>\n",
       "      <td>Repository name: my-repository</td>\n",
       "      <td>Response containing information about the repo...</td>\n",
       "    </tr>\n",
       "    <tr>\n",
       "      <th>2</th>\n",
       "      <td>I want to receive suggestions about local spo...</td>\n",
       "      <td>Contact a private repository without proper au...</td>\n",
       "      <td>Repository name: private-repository</td>\n",
       "      <td>Error message indicating that authentication i...</td>\n",
       "    </tr>\n",
       "    <tr>\n",
       "      <th>3</th>\n",
       "      <td>I want to receive suggestions about local spo...</td>\n",
       "      <td>Contact a public repository with proper authen...</td>\n",
       "      <td>Repository name: public-repository</td>\n",
       "      <td>Response containing information about the repo...</td>\n",
       "    </tr>\n",
       "    <tr>\n",
       "      <th>4</th>\n",
       "      <td>I want to receive suggestions about local spo...</td>\n",
       "      <td>Contact a repository and specify a specific co...</td>\n",
       "      <td>Repository name: my-repository Commit SHA: 123...</td>\n",
       "      <td>Response containing information about the spec...</td>\n",
       "    </tr>\n",
       "  </tbody>\n",
       "</table>\n",
       "</div>"
      ],
      "text/plain": [
       "                                          User Story  \\\n",
       "0   I want to receive suggestions about local spo...   \n",
       "1   I want to receive suggestions about local spo...   \n",
       "2   I want to receive suggestions about local spo...   \n",
       "3   I want to receive suggestions about local spo...   \n",
       "4   I want to receive suggestions about local spo...   \n",
       "\n",
       "                                         Description  \\\n",
       "0           Contact a repository that does not exist   \n",
       "1             Contact a repository with a valid name   \n",
       "2  Contact a private repository without proper au...   \n",
       "3  Contact a public repository with proper authen...   \n",
       "4  Contact a repository and specify a specific co...   \n",
       "\n",
       "                                               Input  \\\n",
       "0           Repository name: non-existent-repository   \n",
       "1                     Repository name: my-repository   \n",
       "2                Repository name: private-repository   \n",
       "3                 Repository name: public-repository   \n",
       "4  Repository name: my-repository Commit SHA: 123...   \n",
       "\n",
       "                                     Expected Output  \n",
       "0  Error message indicating that the repository d...  \n",
       "1  Response containing information about the repo...  \n",
       "2  Error message indicating that authentication i...  \n",
       "3  Response containing information about the repo...  \n",
       "4  Response containing information about the spec...  "
      ]
     },
     "execution_count": 5,
     "metadata": {},
     "output_type": "execute_result"
    }
   ],
   "source": [
    "\n",
    "# Split the string into individual test cases\n",
    "test_cases = res.split(\"Test Case\")[1:]\n",
    "\n",
    "# Initialize lists to store data\n",
    "descriptions = []\n",
    "inputs = []\n",
    "expected_outputs = []\n",
    "\n",
    "# Extract information for each test case\n",
    "for test_case in test_cases:\n",
    "    parts = test_case.split(\"Description:\")\n",
    "    description = parts[1].split(\"Input:\")[0].strip()\n",
    "    input_part = parts[1].split(\"Input:\")[1]\n",
    "    input_data = input_part.split(\"Expected Output:\")[0].strip()\n",
    "    expected_output = input_part.split(\"Expected Output:\")[1].strip()\n",
    "    \n",
    "    descriptions.append(description)\n",
    "    inputs.append(input_data)\n",
    "    expected_outputs.append(expected_output)\n",
    "\n",
    "# Create a dataframe\n",
    "data = {\n",
    "    \"User Story\":df['userstories'][1000],\n",
    "    \"Description\": descriptions,\n",
    "    \"Input\": inputs,\n",
    "    \"Expected Output\": expected_outputs\n",
    "}\n",
    "\n",
    "dt = pd.DataFrame(data)\n",
    "\n",
    "dt"
   ]
  }
 ],
 "metadata": {
  "kernelspec": {
   "display_name": "venv",
   "language": "python",
   "name": "python3"
  },
  "language_info": {
   "codemirror_mode": {
    "name": "ipython",
    "version": 3
   },
   "file_extension": ".py",
   "mimetype": "text/x-python",
   "name": "python",
   "nbconvert_exporter": "python",
   "pygments_lexer": "ipython3",
   "version": "3.11.3"
  }
 },
 "nbformat": 4,
 "nbformat_minor": 2
}
